{
 "cells": [
  {
   "cell_type": "code",
   "execution_count": 26,
   "id": "9558f58c-9b12-487e-8e97-4c1377f041cb",
   "metadata": {},
   "outputs": [
    {
     "name": "stdout",
     "output_type": "stream",
     "text": [
      "3-conv-nodes-64-dense-0\n",
      "Epoch 1/10\n",
      "\u001b[1m546/546\u001b[0m \u001b[32m━━━━━━━━━━━━━━━━━━━━\u001b[0m\u001b[37m\u001b[0m \u001b[1m64s\u001b[0m 113ms/step - accuracy: 0.5627 - loss: 0.6715 - val_accuracy: 0.7138 - val_loss: 0.5707\n",
      "Epoch 2/10\n",
      "\u001b[1m546/546\u001b[0m \u001b[32m━━━━━━━━━━━━━━━━━━━━\u001b[0m\u001b[37m\u001b[0m \u001b[1m65s\u001b[0m 119ms/step - accuracy: 0.7177 - loss: 0.5514 - val_accuracy: 0.7662 - val_loss: 0.4890\n",
      "Epoch 3/10\n",
      "\u001b[1m546/546\u001b[0m \u001b[32m━━━━━━━━━━━━━━━━━━━━\u001b[0m\u001b[37m\u001b[0m \u001b[1m67s\u001b[0m 123ms/step - accuracy: 0.7738 - loss: 0.4742 - val_accuracy: 0.7877 - val_loss: 0.4603\n",
      "Epoch 4/10\n",
      "\u001b[1m546/546\u001b[0m \u001b[32m━━━━━━━━━━━━━━━━━━━━\u001b[0m\u001b[37m\u001b[0m \u001b[1m70s\u001b[0m 129ms/step - accuracy: 0.7976 - loss: 0.4376 - val_accuracy: 0.8020 - val_loss: 0.4374\n",
      "Epoch 5/10\n",
      "\u001b[1m546/546\u001b[0m \u001b[32m━━━━━━━━━━━━━━━━━━━━\u001b[0m\u001b[37m\u001b[0m \u001b[1m66s\u001b[0m 120ms/step - accuracy: 0.8149 - loss: 0.4016 - val_accuracy: 0.8076 - val_loss: 0.4261\n",
      "Epoch 6/10\n",
      "\u001b[1m546/546\u001b[0m \u001b[32m━━━━━━━━━━━━━━━━━━━━\u001b[0m\u001b[37m\u001b[0m \u001b[1m62s\u001b[0m 114ms/step - accuracy: 0.8307 - loss: 0.3722 - val_accuracy: 0.8201 - val_loss: 0.4090\n",
      "Epoch 7/10\n",
      "\u001b[1m546/546\u001b[0m \u001b[32m━━━━━━━━━━━━━━━━━━━━\u001b[0m\u001b[37m\u001b[0m \u001b[1m61s\u001b[0m 112ms/step - accuracy: 0.8480 - loss: 0.3383 - val_accuracy: 0.8116 - val_loss: 0.4270\n",
      "Epoch 8/10\n",
      "\u001b[1m546/546\u001b[0m \u001b[32m━━━━━━━━━━━━━━━━━━━━\u001b[0m\u001b[37m\u001b[0m \u001b[1m63s\u001b[0m 116ms/step - accuracy: 0.8627 - loss: 0.3112 - val_accuracy: 0.8342 - val_loss: 0.3813\n",
      "Epoch 9/10\n",
      "\u001b[1m546/546\u001b[0m \u001b[32m━━━━━━━━━━━━━━━━━━━━\u001b[0m\u001b[37m\u001b[0m \u001b[1m61s\u001b[0m 112ms/step - accuracy: 0.8739 - loss: 0.2933 - val_accuracy: 0.8287 - val_loss: 0.3864\n",
      "Epoch 10/10\n",
      "\u001b[1m546/546\u001b[0m \u001b[32m━━━━━━━━━━━━━━━━━━━━\u001b[0m\u001b[37m\u001b[0m \u001b[1m62s\u001b[0m 113ms/step - accuracy: 0.8915 - loss: 0.2586 - val_accuracy: 0.8266 - val_loss: 0.4154\n"
     ]
    }
   ],
   "source": [
    "import tensorflow as tf\n",
    "from tensorflow.keras.models import Sequential\n",
    "from tensorflow.keras.layers import Dense,Dropout,Activation,Flatten,Conv2D,MaxPooling2D\n",
    "from tensorflow.keras.callbacks import TensorBoard\n",
    "import pickle \n",
    "import numpy as np\n",
    "import time\n",
    "\n",
    "x = pickle.load(open(\"x2.pickle\",\"rb\"))\n",
    "y = pickle.load(open(\"y2.pickle\",\"rb\"))\n",
    "x = np.array(x)\n",
    "y = np.array(y)\n",
    "X = x/255.0\n",
    "\n",
    "dense_layers = [0]\n",
    "layer_sizes = [64]\n",
    "conv_layers = [3]\n",
    "\n",
    "for dense_layer in dense_layers:\n",
    "    for layer_size in layer_sizes:\n",
    "        for conv_layer in conv_layers:\n",
    "            NAME = \"{}-conv-nodes-{}-dense-{}\".format(conv_layer,layer_size,dense_layer,int(time.time()))\n",
    "            tensorboard =TensorBoard(log_dir=\"logs/{}\".format(NAME))\n",
    "            print(NAME)\n",
    "            model = Sequential()\n",
    "            model.add(Conv2D(layer_size,(3,3),input_shape = x.shape[1:]))\n",
    "            model.add(Activation(\"relu\"))\n",
    "            model.add(MaxPooling2D(pool_size=(2,2)))\n",
    "\n",
    "            for l in range(conv_layer-1):\n",
    "                model.add(Conv2D(layer_size,(3,3)))  \n",
    "                model.add(Activation(\"relu\"))\n",
    "                model.add(MaxPooling2D(pool_size=(2,2)))\n",
    "            model.add(Flatten())\n",
    "            for l in range(dense_layer):\n",
    "                model.add(Dense(layer_size))\n",
    "                model.add(Activation(\"relu\"))\n",
    "            \n",
    "            model.add(Dense(1))\n",
    "            model.add(Activation(\"sigmoid\"))\n",
    "            \n",
    "            model.compile(loss=\"binary_crossentropy\",\n",
    "                          optimizer = \"adam\",\n",
    "                          metrics=[\"accuracy\"])\n",
    "            \n",
    "            model.fit(X,y,batch_size=32,validation_split=0.3,epochs=10,callbacks=[tensorboard])"
   ]
  },
  {
   "cell_type": "code",
   "execution_count": 27,
   "id": "b7a3c980-ae18-4d43-9040-42f353a4fa8b",
   "metadata": {},
   "outputs": [],
   "source": [
    "model.save(\"64x3-CNN2.keras\")"
   ]
  },
  {
   "cell_type": "code",
   "execution_count": null,
   "id": "4c207a82-1250-4f1e-aac5-315cfec57ce1",
   "metadata": {},
   "outputs": [],
   "source": []
  }
 ],
 "metadata": {
  "kernelspec": {
   "display_name": "Python 3 (ipykernel)",
   "language": "python",
   "name": "python3"
  },
  "language_info": {
   "codemirror_mode": {
    "name": "ipython",
    "version": 3
   },
   "file_extension": ".py",
   "mimetype": "text/x-python",
   "name": "python",
   "nbconvert_exporter": "python",
   "pygments_lexer": "ipython3",
   "version": "3.12.0"
  }
 },
 "nbformat": 4,
 "nbformat_minor": 5
}
